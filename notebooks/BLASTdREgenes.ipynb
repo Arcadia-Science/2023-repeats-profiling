{
  "cells": [
    {
      "cell_type": "code",
      "execution_count": null,
      "metadata": {
        "colab": {
          "base_uri": "https://localhost:8080/"
        },
        "id": "AwPuz68jyXcQ",
        "outputId": "64bffd9a-1598-4158-f47f-793f8cdf91b9"
      },
      "outputs": [
        {
          "name": "stdout",
          "output_type": "stream",
          "text": [
            "\u001b[2K     \u001b[90m━━━━━━━━━━━━━━━━━━━━━━━━━━━━━━━━━━━━━━━━\u001b[0m \u001b[32m2.2/2.2 MB\u001b[0m \u001b[31m42.8 MB/s\u001b[0m eta \u001b[36m0:00:00\u001b[0m\n",
            "\u001b[2K     \u001b[90m━━━━━━━━━━━━━━━━━━━━━━━━━━━━━━━━━━━━━━━━\u001b[0m \u001b[32m25.2/25.2 MB\u001b[0m \u001b[31m28.5 MB/s\u001b[0m eta \u001b[36m0:00:00\u001b[0m\n",
            "\u001b[2K     \u001b[90m━━━━━━━━━━━━━━━━━━━━━━━━━━━━━━━━━━━━━━━━\u001b[0m \u001b[32m1.6/1.6 MB\u001b[0m \u001b[31m24.2 MB/s\u001b[0m eta \u001b[36m0:00:00\u001b[0m\n",
            "\u001b[?25h"
          ]
        }
      ],
      "source": [
        "''' This notebook was run in google colabs because it ran faster, seemed to have fewer errors during BLAST api calls, \n",
        "and it was easy to directly save the results into a google drive folder for immediate sharing. It requires a google worksheet with ensembl IDs (Cell 2, line 4, worksheet=...).\n",
        "If the ids are not in the 5th column, alter the column used (Cell 2, line 7, GeneIds =...)   '''\n",
        "\n",
        "!pip install -q gget\n",
        "import gget"
      ]
    },
    {
      "cell_type": "code",
      "execution_count": null,
      "metadata": {
        "id": "pVzT1mSiKFYa"
      },
      "outputs": [],
      "source": [
        "import pandas as pd\n",
        "import numpy as np\n",
        "import os\n",
        "\n",
        "from google.colab import files, auth\n",
        "from google.auth import default\n",
        "import gspread\n"
      ]
    },
    {
      "cell_type": "code",
      "execution_count": null,
      "metadata": {
        "id": "qG-_h_iD77C9"
      },
      "outputs": [],
      "source": [
        "# authorize accessing googlesheets\n",
        "auth.authenticate_user()\n",
        "creds, _ = default()\n",
        "gc = gspread.authorize(creds)\n",
        "\n",
        "#open the google sheet with dREs\n",
        "worksheet = gc.open('Known STR disease loci - from Shi et al. Nat comm. 2023 supplementary data 2').sheet1\n",
        "\n",
        "# get_all_values gives a list of rows.\n",
        "rows = worksheet.get_all_values()\n",
        "\n",
        "# Convert to a DataFrame and get Ensembl IDs\n",
        "dREs = pd.DataFrame.from_records(rows)\n",
        "GeneIDs = dREs.loc[1:,5]"
      ]
    },
    {
      "cell_type": "code",
      "execution_count": null,
      "metadata": {
        "id": "JpPET1CrDkZ8"
      },
      "outputs": [],
      "source": [
        "#clean up Gene Ids\n",
        "GeneIDs.replace('', np.nan, inplace=True)\n",
        "GeneIDs.dropna(inplace = True)\n",
        "GeneIDs.drop_duplicates(inplace = True)\n"
      ]
    },
    {
      "cell_type": "code",
      "execution_count": null,
      "metadata": {
        "colab": {
          "base_uri": "https://localhost:8080/"
        },
        "id": "vegwJ2qUi7lq",
        "outputId": "70a92c18-f765-4e10-f206-9456e97470ba"
      },
      "outputs": [
        {
          "name": "stdout",
          "output_type": "stream",
          "text": [
            "Directory exists\n"
          ]
        }
      ],
      "source": [
        "output_folder_name= \"dRE_BlastResults\"\n",
        "output_folder_path='./drive/MyDrive/' + output_folder_name\n",
        "try:\n",
        "    os.mkdir(output_folder_path)\n",
        "except OSError as e:\n",
        "    print(\"Directory exists\")\n"
      ]
    },
    {
      "cell_type": "code",
      "execution_count": null,
      "metadata": {
        "colab": {
          "background_save": true,
          "base_uri": "https://localhost:8080/"
        },
        "id": "AveR7dnJyfXE",
        "outputId": "fc746418-9a3a-48c3-db11-17773bf976b1"
      },
      "outputs": [
        {
          "name": "stderr",
          "output_type": "stream",
          "text": [
            "WARNING:root:No reviewed UniProt results were found for ID ENST00000673436. Returning all unreviewed results.\n",
            "WARNING:root:No UniProt sequences were found for ID ENST00000678624.\n",
            "ERROR:root:No UniProt amino acid sequences were found for these ID(s).\n",
            "WARNING:root:No reviewed UniProt results were found for ID ENST00000357033. Returning all unreviewed results.\n",
            "WARNING:root:No UniProt sequences were found for ID ENST00000605920.\n",
            "ERROR:root:No UniProt amino acid sequences were found for these ID(s).\n",
            "WARNING:root:No reviewed UniProt results were found for ID ENST00000691494. Returning all unreviewed results.\n",
            "WARNING:root:No reviewed UniProt results were found for ID ENST00000649276. Returning all unreviewed results.\n",
            "ERROR:root:Search 86VA52U2013 failed; please try again and/or report to blast-help@ncbi.nlm.nih.gov.\n"
          ]
        }
      ],
      "source": [
        "#BLASTing\n",
        "num_hits =[]\n",
        "for Eid in GeneIDs:\n",
        "\n",
        "  blast_results = None\n",
        "  output_file_name = output_folder_path + '/' +Eid +'.csv'\n",
        "  seq = gget.seq(Eid, translate=True)\n",
        "\n",
        "  if not seq: #skip if there is no associated peptide\n",
        "    continue\n",
        "  if os.path.isfile(output_file_name): #skip if the BLAST search was already run\n",
        "    continue\n",
        "\n",
        "  while blast_results is None: #if the BLAST search fails retry it\n",
        "   blast_results = gget.blast(seq[1], program=\"blastp\", database=\"nr\" , limit=\"10000\")\n",
        "\n",
        "  blast_results.to_csv(output_file_name, encoding = 'utf-8-sig') #save BLAST results as a csv"
      ]
    }
  ],
  "metadata": {
    "colab": {
      "provenance": []
    },
    "kernelspec": {
      "display_name": "Python 3",
      "name": "python3"
    },
    "language_info": {
      "name": "python"
    }
  },
  "nbformat": 4,
  "nbformat_minor": 0
}
