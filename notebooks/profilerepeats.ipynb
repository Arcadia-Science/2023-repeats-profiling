{
 "cells": [
  {
   "cell_type": "code",
   "execution_count": 11,
   "metadata": {},
   "outputs": [],
   "source": [
    "import pandas as pd\n",
    "import os\n",
    "import matplotlib.pyplot as plt\n",
    "import sys\n",
    "\n",
    "sys.path.insert(1, '/Users/michaelreitman/github/2023-RepeatExpansionPilot/scripts')\n",
    "from downloadhomologfastas import downloadhomologfastas \n",
    "from arrangeoutputfastas import arrangeouputfastas\n",
    "from find_consecutive_repeated_letters import find_consecutive_repeated_letters as fcrl"
   ]
  },
  {
   "cell_type": "code",
   "execution_count": null,
   "metadata": {},
   "outputs": [],
   "source": [
    "#download hits \n",
    "BLAST_filepath = \"results/dREhomologs_MR20230620.csv\"\n",
    "downloadhomologfastas(BLAST_filepath)"
   ]
  },
  {
   "cell_type": "code",
   "execution_count": null,
   "metadata": {},
   "outputs": [],
   "source": [
    "#arrange results\n",
    "arrangeouputfastas()"
   ]
  },
  {
   "cell_type": "code",
   "execution_count": null,
   "metadata": {},
   "outputs": [],
   "source": [
    "print(os.path.join(\"..\",\"re\",\"split_protein_fastas\"))"
   ]
  },
  {
   "cell_type": "code",
   "execution_count": 46,
   "metadata": {},
   "outputs": [],
   "source": [
    "#profile AA repeats\n",
    "results_folder = \"../results/hit_DNA_sequences\"\n",
    "\n",
    "output_folder = os.path.join(results_folder, \"countedAAs\")\n",
    "\n",
    "if not os.path.isdir(output_folder): os.mkdir(output_folder)\n",
    "\n",
    "for gene_folder in os.scandir(results_folder):\n",
    "    directory = os.path.join(gene_folder,\"split_protein_fastas\")\n",
    "    this_gene = gene_folder.path.rsplit('/')[-1]\n",
    "    save_name = os.path.join(output_folder, this_gene + \".csv\")\n",
    "    \n",
    "    try: \n",
    "        del all_rpt_cnts \n",
    "    except:\n",
    "        None\n",
    "\n",
    "    for files in os.listdir(directory):\n",
    "        file_path = os.path.join(directory, files)\n",
    "        this_rpt_cnt = fcrl(file_path)\n",
    "\n",
    "        try:\n",
    "            all_rpt_cnts = pd.concat([all_rpt_cnts,this_rpt_cnt])\n",
    "        except:\n",
    "            all_rpt_cnts = this_rpt_cnt\n",
    "\n",
    "\n",
    "        all_rpt_cnts.to_csv(save_name)\n",
    "        "
   ]
  },
  {
   "cell_type": "code",
   "execution_count": 45,
   "metadata": {},
   "outputs": [
    {
     "data": {
      "text/plain": [
       "'EIF4A3.csv'"
      ]
     },
     "execution_count": 45,
     "metadata": {},
     "output_type": "execute_result"
    }
   ],
   "source": [
    "this_gene = gene_folder.path.rsplit('/')[-1] + \".csv\"\n",
    "this_gene"
   ]
  },
  {
   "cell_type": "code",
   "execution_count": 15,
   "metadata": {},
   "outputs": [
    {
     "data": {
      "text/html": [
       "<div>\n",
       "<style scoped>\n",
       "    .dataframe tbody tr th:only-of-type {\n",
       "        vertical-align: middle;\n",
       "    }\n",
       "\n",
       "    .dataframe tbody tr th {\n",
       "        vertical-align: top;\n",
       "    }\n",
       "\n",
       "    .dataframe thead th {\n",
       "        text-align: right;\n",
       "    }\n",
       "</style>\n",
       "<table border=\"1\" class=\"dataframe\">\n",
       "  <thead>\n",
       "    <tr style=\"text-align: right;\">\n",
       "      <th></th>\n",
       "      <th>Letter</th>\n",
       "      <th>Start</th>\n",
       "      <th>Length</th>\n",
       "      <th>Accession</th>\n",
       "      <th>Organism</th>\n",
       "      <th>Geneid</th>\n",
       "    </tr>\n",
       "  </thead>\n",
       "  <tbody>\n",
       "    <tr>\n",
       "      <th>0</th>\n",
       "      <td>D</td>\n",
       "      <td>6</td>\n",
       "      <td>2</td>\n",
       "      <td>XP_024658994.1.fa</td>\n",
       "      <td>Maylandia zebra</td>\n",
       "      <td>=101480715]</td>\n",
       "    </tr>\n",
       "    <tr>\n",
       "      <th>1</th>\n",
       "      <td>A</td>\n",
       "      <td>20</td>\n",
       "      <td>2</td>\n",
       "      <td>XP_024658994.1.fa</td>\n",
       "      <td>Maylandia zebra</td>\n",
       "      <td>=101480715]</td>\n",
       "    </tr>\n",
       "    <tr>\n",
       "      <th>2</th>\n",
       "      <td>I</td>\n",
       "      <td>24</td>\n",
       "      <td>2</td>\n",
       "      <td>XP_024658994.1.fa</td>\n",
       "      <td>Maylandia zebra</td>\n",
       "      <td>=101480715]</td>\n",
       "    </tr>\n",
       "    <tr>\n",
       "      <th>3</th>\n",
       "      <td>V</td>\n",
       "      <td>47</td>\n",
       "      <td>3</td>\n",
       "      <td>XP_024658994.1.fa</td>\n",
       "      <td>Maylandia zebra</td>\n",
       "      <td>=101480715]</td>\n",
       "    </tr>\n",
       "    <tr>\n",
       "      <th>4</th>\n",
       "      <td>V</td>\n",
       "      <td>86</td>\n",
       "      <td>2</td>\n",
       "      <td>XP_024658994.1.fa</td>\n",
       "      <td>Maylandia zebra</td>\n",
       "      <td>=101480715]</td>\n",
       "    </tr>\n",
       "    <tr>\n",
       "      <th>...</th>\n",
       "      <td>...</td>\n",
       "      <td>...</td>\n",
       "      <td>...</td>\n",
       "      <td>...</td>\n",
       "      <td>...</td>\n",
       "      <td>...</td>\n",
       "    </tr>\n",
       "    <tr>\n",
       "      <th>178</th>\n",
       "      <td>A</td>\n",
       "      <td>2315</td>\n",
       "      <td>2</td>\n",
       "      <td>XP_023816310.1.fa</td>\n",
       "      <td>Oryzias latipes</td>\n",
       "      <td>=101167885]</td>\n",
       "    </tr>\n",
       "    <tr>\n",
       "      <th>179</th>\n",
       "      <td>T</td>\n",
       "      <td>2319</td>\n",
       "      <td>2</td>\n",
       "      <td>XP_023816310.1.fa</td>\n",
       "      <td>Oryzias latipes</td>\n",
       "      <td>=101167885]</td>\n",
       "    </tr>\n",
       "    <tr>\n",
       "      <th>180</th>\n",
       "      <td>A</td>\n",
       "      <td>2325</td>\n",
       "      <td>2</td>\n",
       "      <td>XP_023816310.1.fa</td>\n",
       "      <td>Oryzias latipes</td>\n",
       "      <td>=101167885]</td>\n",
       "    </tr>\n",
       "    <tr>\n",
       "      <th>181</th>\n",
       "      <td>A</td>\n",
       "      <td>2340</td>\n",
       "      <td>2</td>\n",
       "      <td>XP_023816310.1.fa</td>\n",
       "      <td>Oryzias latipes</td>\n",
       "      <td>=101167885]</td>\n",
       "    </tr>\n",
       "    <tr>\n",
       "      <th>182</th>\n",
       "      <td>D</td>\n",
       "      <td>2358</td>\n",
       "      <td>2</td>\n",
       "      <td>XP_023816310.1.fa</td>\n",
       "      <td>Oryzias latipes</td>\n",
       "      <td>=101167885]</td>\n",
       "    </tr>\n",
       "  </tbody>\n",
       "</table>\n",
       "<p>1602159 rows × 6 columns</p>\n",
       "</div>"
      ],
      "text/plain": [
       "    Letter  Start  Length          Accession         Organism       Geneid\n",
       "0        D      6       2  XP_024658994.1.fa  Maylandia zebra  =101480715]\n",
       "1        A     20       2  XP_024658994.1.fa  Maylandia zebra  =101480715]\n",
       "2        I     24       2  XP_024658994.1.fa  Maylandia zebra  =101480715]\n",
       "3        V     47       3  XP_024658994.1.fa  Maylandia zebra  =101480715]\n",
       "4        V     86       2  XP_024658994.1.fa  Maylandia zebra  =101480715]\n",
       "..     ...    ...     ...                ...              ...          ...\n",
       "178      A   2315       2  XP_023816310.1.fa  Oryzias latipes  =101167885]\n",
       "179      T   2319       2  XP_023816310.1.fa  Oryzias latipes  =101167885]\n",
       "180      A   2325       2  XP_023816310.1.fa  Oryzias latipes  =101167885]\n",
       "181      A   2340       2  XP_023816310.1.fa  Oryzias latipes  =101167885]\n",
       "182      D   2358       2  XP_023816310.1.fa  Oryzias latipes  =101167885]\n",
       "\n",
       "[1602159 rows x 6 columns]"
      ]
     },
     "execution_count": 15,
     "metadata": {},
     "output_type": "execute_result"
    }
   ],
   "source": [
    "filtered_repeats = all_rpt_cnts[all_rpt_cnts[\"Letter\"].str.contains(\"N|X\") == False]\n",
    "# filtered_repeats = filtered_repeats[filtered_repeats[\"Length\"]>=5]\n",
    "filtered_repeats"
   ]
  },
  {
   "cell_type": "code",
   "execution_count": 16,
   "metadata": {},
   "outputs": [
    {
     "data": {
      "image/png": "[encoded data removed]",
      "text/plain": [
       "<Figure size 1500x1000 with 20 Axes>"
      ]
     },
     "metadata": {},
     "output_type": "display_data"
    }
   ],
   "source": [
    "binwidth =1 \n",
    "bins=range(1 + binwidth,50 + binwidth, binwidth)\n",
    "\n",
    "human_repeats = filtered_repeats[filtered_repeats[\"Organism\"].str.contains(\"Homo sapiens\")]\n",
    "max_human_repeats = human_repeats.groupby([\"Letter\"])['Length'].max()\n",
    "\n",
    "g = filtered_repeats.hist(\"Length\", by= \"Letter\", sharex=False, sharey=False, figsize =[15,10], bins=bins)\n",
    "\n",
    "axis_index = 0\n",
    "for axis in g.ravel(): \n",
    "    axis.set_yscale('log')\n",
    "    # plt.axvline(x = max_human_repeats[axis_index], color = 'r', label = 'axvline - full height')\n",
    "    axis_index += 1\n",
    "\n",
    "plt.show()\n",
    "\n",
    "    # axis.set_ylim([1,10000])\n",
    "\n",
    "\n",
    "# filtered_repeats.hist(\"Length\", by= \"Letter\", sharex=True, sharey=True)\n",
    "\n"
   ]
  },
  {
   "cell_type": "code",
   "execution_count": 18,
   "metadata": {},
   "outputs": [
    {
     "data": {
      "image/png": "[encoded data removed]",
      "text/plain": [
       "<Figure size 640x480 with 1 Axes>"
      ]
     },
     "metadata": {},
     "output_type": "display_data"
    }
   ],
   "source": [
    "repeatAA = \"Q\"\n",
    "Q_reps = filtered_repeats[filtered_repeats[\"Letter\"].str.contains(repeatAA)]\n",
    "Q_lens = Q_reps[\"Length\"] \n",
    "\n",
    "plt.figure()\n",
    "axes = plt.hist(Q_lens, bins=bins)\n",
    "plt.axvline(13, color = 'r', label = 'axvline - full height')\n",
    "plt.yscale(\"log\")\n"
   ]
  },
  {
   "cell_type": "code",
   "execution_count": null,
   "metadata": {},
   "outputs": [],
   "source": [
    "Q_reps.sort_values(\"Length\",ascending=False)"
   ]
  },
  {
   "cell_type": "code",
   "execution_count": 19,
   "metadata": {},
   "outputs": [
    {
     "data": {
      "text/plain": [
       "Letter\n",
       "A     3\n",
       "C     2\n",
       "D     3\n",
       "E     4\n",
       "F     3\n",
       "G     4\n",
       "H    10\n",
       "I     3\n",
       "K     3\n",
       "L     3\n",
       "M     2\n",
       "P     4\n",
       "Q    13\n",
       "R     5\n",
       "S     5\n",
       "T     3\n",
       "V     4\n",
       "Y     2\n",
       "Name: Length, dtype: int64"
      ]
     },
     "execution_count": 19,
     "metadata": {},
     "output_type": "execute_result"
    }
   ],
   "source": [
    "human_repeats = filtered_repeats[filtered_repeats[\"Organism\"].str.contains(\"Homo sapiens\")]\n",
    "human_repeats.groupby([\"Letter\"])['Length'].max()"
   ]
  }
 ],
 "metadata": {
  "kernelspec": {
   "display_name": "REpilot_blasttest",
   "language": "python",
   "name": "python3"
  },
  "language_info": {
   "codemirror_mode": {
    "name": "ipython",
    "version": 3
   },
   "file_extension": ".py",
   "mimetype": "text/x-python",
   "name": "python",
   "nbconvert_exporter": "python",
   "pygments_lexer": "ipython3",
   "version": "3.11.3"
  },
  "orig_nbformat": 4
 },
 "nbformat": 4,
 "nbformat_minor": 2
}
