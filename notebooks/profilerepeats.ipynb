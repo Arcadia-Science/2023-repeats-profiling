{
 "cells": [
  {
   "cell_type": "code",
   "execution_count": 1,
   "metadata": {},
   "outputs": [],
   "source": [
    "import pandas as pd\n",
    "import matplotlib.pyplot as plt\n",
    "import os\n",
    "from datetime import datetime\n",
    "import sys\n",
    "\n",
    "\n",
    "sys.path.insert(1, '/Users/michaelreitman/github/REprofile/scripts') #points to scripts folder\n",
    "from downloadhomologfastas import downloadhomologfastas \n",
    "import arrangeoutputfastas as aof\n",
    "import fcrl\n",
    "from analyzecountedAAs import analyzecountedAAs\n",
    "import plotrepeats as pr\n",
    "\n"
   ]
  },
  {
   "cell_type": "code",
   "execution_count": null,
   "metadata": {},
   "outputs": [],
   "source": [
    "#get date for appending to filenames \n",
    "today = datetime.today().strftime('%Y%m%d') "
   ]
  },
  {
   "cell_type": "code",
   "execution_count": null,
   "metadata": {},
   "outputs": [],
   "source": [
    "#download blast hits \n",
    "blast_filepath = \"../results/dREhomologs_MR20230710.csv\" #points to csv of all homologs that contains a column with the header \"gene\"\n",
    "downloadhomologfastas(blast_filepath,overwrite=False)"
   ]
  },
  {
   "cell_type": "code",
   "execution_count": null,
   "metadata": {},
   "outputs": [],
   "source": [
    "#arrange results\n",
    "results_folder = \"../results/hit_DNA_sequences\"\n",
    "aof.arrangefastas(results_folder)"
   ]
  },
  {
   "cell_type": "code",
   "execution_count": null,
   "metadata": {},
   "outputs": [],
   "source": [
    "results_folder = \"../results/Foldseek_aa_fasta_fromEW_20230712\"\n",
    "output_folder = os.path.join(\"../\",results_folder.split(\"/\")[1], \"counted_AAs\", \"structural_similarity1\")\n",
    "print(output_folder)"
   ]
  },
  {
   "cell_type": "code",
   "execution_count": null,
   "metadata": {},
   "outputs": [],
   "source": [
    "## Amino Acid counting\n",
    "\n",
    "#count blast refseq amino acid repeats and save\n",
    "results_folder = \"../results/hit_DNA_sequences\"\n",
    "output_folder = os.path.join(\"../\",results_folder.split(\"/\")[1], \"counted_AAs\",\"BLAST_refseq\")\n",
    "fcrl.fcrlwrapper(results_folder, output_folder,MRget=True)\n",
    "\n",
    "#count BLAST Genbank amino acid repeats and save\n",
    "results_folder = \"../results/BLAST_Genbankfastas_fromEW_20230713\"\n",
    "output_folder = os.path.join(\"../\",results_folder.split(\"/\")[1], \"counted_AAs\",\"BLAST_genbank\")\n",
    "fcrl.fcrlwrapper(results_folder, output_folder)\n",
    "\n",
    "#count structural similarity amino acid repeats and save\n",
    "results_folder = \"../results/Foldseek_aa_fasta_fromEW_20230712\"\n",
    "output_folder = os.path.join(\"../\",results_folder.split(\"/\")[1], \"counted_AAs\", \"structural_similarity\")\n",
    "fcrl.fcrlwrapper(results_folder, output_folder)"
   ]
  },
  {
   "cell_type": "code",
   "execution_count": null,
   "metadata": {},
   "outputs": [],
   "source": [
    "#combine the Refseq and Genbank counts\n",
    "refseq_folder = \"../results/countedAAs/BLAST_refseq\"\n",
    "genbank_folder = \"../results/countedAAs/BLAST_genbank\"\n",
    "output_folder = \"../results/countedAAs/total\"\n",
    "databases = [\"refseq\",\"genbank\"]\n",
    "\n",
    "if not os.path.isdir(output_folder):\n",
    "    os.mkdir(output_folder)\n",
    "\n",
    "fcrl.combinecounts(refseq_folder,genbank_folder,output_folder,databases)\n",
    "\n",
    "#combine the MR's BLAST counts with structural similarity counts\n",
    "results_folder = \"../results/countedAAs/total\"\n",
    "foldseek_folder = \"../results/countedAA/structural_similarity\"\n",
    "output_folder = \"../results/countedAAs/total\"\n",
    "databases = [\"BLAST\",\"structural similarity\"]\n",
    "\n",
    "if not os.path.isdir(output_folder):\n",
    "    os.mkdir(output_folder)\n",
    "\n",
    "fcrl.combinecounts(results_folder,foldseek_folder,output_folder,databases)"
   ]
  },
  {
   "cell_type": "code",
   "execution_count": null,
   "metadata": {},
   "outputs": [],
   "source": [
    "#combine MR BLAST homology results with structural similarity results\n",
    "ss_file_path = \"../results/homology_results/dREstuct_similarity_fromEW_20230717.tsv\"\n",
    "blast_file_path = \"../results/homology_results/dREhomologs_MR20230718.csv\"\n",
    "output_folder = \"../results/homology_results\"\n",
    "homolog_df = pd.read_table(ss_file_path)\n",
    "blast_df = pd.read_csv(blast_file_path)\n",
    "\n",
    "homolog_df.rename(columns={\n",
    "    \"protid\":\"Accession\",\n",
    "    \"organism.scientificName\":\"Scientific Name\",\n",
    "    \"organism.commonName\":\"Common Name\",\n",
    "    \"sequence.length\":\"Acc. Len\",\n",
    "    \"organism.taxonId\":\"Taxid\",\n",
    "    },inplace=True)\n",
    "\n",
    "#remove hits that came from blast because we blasted seperately as well\n",
    "homolog_df = homolog_df[homolog_df[\"source.method\"].str.contains('foldseek')]\n",
    "homolog_df[\"source.method\"]='foldseek'\n",
    "\n",
    "homolog_df[\"gene\"] = homolog_df[\"reference\"].str.split('_').str[0]\n",
    "homolog_df.drop_duplicates(inplace=True)\n",
    "homolog_df.drop_duplicates(subset = [\"Accession\"],inplace=True)\n",
    "homolog_df.reset_index(inplace=True,drop=True)\n",
    "#only keep results with TM score >0.2\n",
    "homolog_df = homolog_df[homolog_df[\"TM_v_query\"]>0.2]\n",
    "\n",
    "full_df = pd.concat([blast_df ,homolog_df], axis=0, ignore_index=True)\n",
    "full_df.to_csv(os.path.join(output_folder,\"full_results_\" + today + \".csv\"))"
   ]
  },
  {
   "cell_type": "code",
   "execution_count": null,
   "metadata": {},
   "outputs": [],
   "source": [
    "#analyze the BLAST amino acid repeats and save the results in a new folder\n",
    "countedAAs_folder = \"../results/counted_AAs/total\"\n",
    "output_path =  \"../results/analyzed_AAcounts\"\n",
    "homology_file_path = \"../results/homology_results/full_results_20230802.csv\"\n",
    "\n",
    "analyzecountedAAs(input_dir = countedAAs_folder, \n",
    "output_path = output_path, \n",
    "homology_file_path=homology_file_path \n",
    ")"
   ]
  },
  {
   "cell_type": "code",
   "execution_count": null,
   "metadata": {},
   "outputs": [],
   "source": [
    "#plot the amino acid results for each dRE\n",
    "folder = \"../results/analyzed_AAcounts\"\n",
    "pr.plot_analyzed_AAcounts(folder)"
   ]
  },
  {
   "cell_type": "code",
   "execution_count": null,
   "metadata": {},
   "outputs": [],
   "source": [
    "# plot all coding dREs together \n",
    "all_AA_reps_path = \"../results/analyzed_AAcounts/all_pathologic_AA_repeats.csv\"\n",
    "all_AA_reps = pd.read_csv(all_AA_reps_path)\n",
    "comparison_metric = \"Human Normal Max Delta\"\n",
    "\n",
    "#only one gene per organism\n",
    "all_AA_reps = all_AA_reps.sort_values('Length', ascending=False).drop_duplicates(subset = ['gene','Scientific Name']).sort_index()\n",
    "pr.plot_allDRE_pathologicalAA(all_AA_reps,comparison_metric)\n",
    "plt.ylim([-50,25])\n",
    "\n",
    "output_folder = \"../results/analyzed_AAcounts\"\n",
    "\n",
    "\n",
    "plt.savefig(os.path.join(output_folder,'codingdREs_relmaxhumanrepeats_'+today+'.png'), format='png', dpi=1200)\n",
    "plt.savefig(os.path.join(output_folder,'codingdREs_relmaxhumanrepeats_'+today+'.pdf'), format='pdf', dpi=1200)"
   ]
  },
  {
   "cell_type": "code",
   "execution_count": null,
   "metadata": {},
   "outputs": [],
   "source": [
    "all_hit_species_path = \"../results/analyzed_AAcounts/all_hit_species.csv\"\n",
    "all_hit_species = pd.read_csv(all_hit_species_path)\n",
    "\n",
    "#filter so each species only has one hit per dRE\n",
    "all_hit_species = all_hit_species.sort_values('Length', ascending=False).drop_duplicates(subset = ['gene','Scientific Name']).sort_index()\n",
    "\n",
    "dRE_count_by_species= all_hit_species[['Taxid','Common Name']].value_counts()\n",
    "\n",
    "bins = range(0,dRE_count_by_species.max(),1)\n",
    "plt.subplots(figsize=(8,6))\n",
    "plt.hist(dRE_count_by_species,bins=bins,color=\"arcadia:marineblue\")\n",
    "plt.xlabel('# of dRE genes with repeats >= the human reference')\n",
    "plt.ylabel('# of species')\n",
    "\n",
    "print(dRE_count_by_species.iloc[0:10])"
   ]
  },
  {
   "cell_type": "code",
   "execution_count": null,
   "metadata": {},
   "outputs": [],
   "source": [
    "filename = \"../results/taxidcounts_for_treemapping/taxid_ndREhits_forEW\" + today + \".csv\"\n",
    "dRE_count_by_species.to_csv(filename)"
   ]
  },
  {
   "cell_type": "code",
   "execution_count": null,
   "metadata": {},
   "outputs": [],
   "source": [
    "temp = all_hit_species.copy()\n",
    "#For NIPA1 the reference genome contains more repeats than normal max.\n",
    "# JPH3 assessement is challenging because the repeat happens from an anti-sense transcript\n",
    "#for HOXD13/ZIC3, many homologs are HOXA13/ZIC2 proteins which have longer repetitive tracts and thus gives false positives\n",
    "temp = temp[~temp[\"gene\"].str.contains(\"ZIC3|HOXD13\")]\n",
    "\n",
    "pathogenicmin_dRE_species = temp[temp[\"Human Pathogenic Min Delta\"] >= 0]\n",
    "normalmax_dRE_species = temp[temp[\"Human Normal Max Delta\"] > 0]\n",
    "\n",
    "print(pathogenicmin_dRE_species[['Taxid','Scientific Name','Common Name',\"gene\",\"Human Pathogenic Min Delta\", \"Per. Ident\",\"TM_v_query\"]].sort_values(\"gene\"))"
   ]
  },
  {
   "cell_type": "code",
   "execution_count": null,
   "metadata": {},
   "outputs": [],
   "source": [
    "healthy_human_max = normalmax_dRE_species[['Taxid','Common Name']].value_counts()\n",
    "print(healthy_human_max.iloc[0:10])\n",
    "\n",
    "filename = \"../results/taxidcounts_for_treemapping/taxid_exceeds_healthy_human_max_forEW\" + today + \".csv\"\n",
    "healthy_human_max.to_csv(filename)"
   ]
  },
  {
   "cell_type": "code",
   "execution_count": null,
   "metadata": {},
   "outputs": [],
   "source": [
    "mean_lengthZscore = normalmax_dRE_species[[\"Taxid\",\"Length Zscore\"]].groupby(\"Taxid\").mean().sort_values(\"Length Zscore\", ascending=False)\n",
    "summed_lengthZscore = normalmax_dRE_species[[\"Taxid\",\"Length Zscore\"]].groupby(\"Taxid\").sum().sort_values(\"Length Zscore\", ascending=False)\n",
    "\n",
    "print(summed_lengthZscore.iloc[0:25])\n",
    "\n",
    "filename = \"../results/taxidcounts_for_treemapping/taxid_exceeds_healthy_max_summed_length_zscore_forEW\" + today + \".csv\"\n",
    "summed_lengthZscore.to_csv(filename)\n",
    "\n",
    "filename = \"../results/taxidcounts_for_treemapping/taxid_exceeds_healthy_max_mean_length_zscore_forEW\" + today + \".csv\"\n",
    "mean_lengthZscore.to_csv(filename)"
   ]
  }
 ],
 "metadata": {
  "kernelspec": {
   "display_name": "REpilot_blasttest",
   "language": "python",
   "name": "python3"
  },
  "language_info": {
   "codemirror_mode": {
    "name": "ipython",
    "version": 3
   },
   "file_extension": ".py",
   "mimetype": "text/x-python",
   "name": "python",
   "nbconvert_exporter": "python",
   "pygments_lexer": "ipython3",
   "version": "3.11.4"
  },
  "orig_nbformat": 4
 },
 "nbformat": 4,
 "nbformat_minor": 2
}
