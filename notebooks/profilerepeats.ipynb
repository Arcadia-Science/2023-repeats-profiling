{
 "cells": [
  {
   "cell_type": "code",
   "execution_count": null,
   "metadata": {},
   "outputs": [],
   "source": [
    "import pandas as pd\n",
    "import matplotlib.pyplot as plt\n",
    "import os\n",
    "from datetime import datetime\n",
    "import sys\n",
    "\n",
    "\n",
    "sys.path.insert(1, '/Users/michaelreitman/github/REprofile/scripts') #points to scripts folder\n",
    "from downloadhomologfastas import downloadhomologfastas \n",
    "import arrangeoutputfastas as aof\n",
    "import fcrl\n",
    "from analyzecountedAAs import analyzecountedAAs\n",
    "import plotrepeats as pr\n",
    "\n"
   ]
  },
  {
   "cell_type": "code",
   "execution_count": null,
   "metadata": {},
   "outputs": [],
   "source": [
    "#get date for appending to filenames \n",
    "today = datetime.today().strftime('%Y%m%d') "
   ]
  },
  {
   "cell_type": "code",
   "execution_count": null,
   "metadata": {},
   "outputs": [],
   "source": [
    "#download blast hits \n",
    "blast_filepath = \"../results/homology_results/dREhomologs_20230802.csv\" #points to csv of all homologs that contains a column with the header \"gene\"\n",
    "output_folder = = \"../results/refseq_fastas\"\n",
    "downloadhomologfastas(blast_filepath,output_folder,overwrite=False)\n",
    "\n",
    "#manually run the \"Pulling\" notebooks to pull i \n",
    "\n",
    "#arrange results\n",
    "aof.arrangefastas(output_folder)"
   ]
  },
  {
   "cell_type": "code",
   "execution_count": null,
   "metadata": {},
   "outputs": [],
   "source": [
    "## Amino Acid counting\n",
    "\n",
    "#count blast refseq amino acid repeats and save\n",
    "results_folder = \"../results/refseq_fastas\"\n",
    "output_folder = os.path.join(\"../\",results_folder.split(\"/\")[1], \"counted_AAs\",\"BLAST_refseq\")\n",
    "fcrl.fcrlwrapper(results_folder, output_folder,MRget=True)\n",
    "\n",
    "#count BLAST Genbank amino acid repeats and save\n",
    "results_folder = \"../results/BLAST_Genbank_aa_fastas\"\n",
    "output_folder = os.path.join(\"../\",results_folder.split(\"/\")[1], \"counted_AAs\",\"BLAST_genbank\")\n",
    "fcrl.fcrlwrapper(results_folder, output_folder)\n",
    "\n",
    "#count structural similarity amino acid repeats and save\n",
    "results_folder = \"../results/Foldseek_aa_fastas\"\n",
    "output_folder = os.path.join(\"../\",results_folder.split(\"/\")[1], \"counted_AAs\", \"structural_similarity\")\n",
    "fcrl.fcrlwrapper(results_folder, output_folder)"
   ]
  },
  {
   "cell_type": "code",
   "execution_count": null,
   "metadata": {},
   "outputs": [],
   "source": [
    "#combine the Refseq and Genbank counts\n",
    "refseq_folder = \"../results/countedAAs/BLAST_refseq\"\n",
    "genbank_folder = \"../results/countedAAs/BLAST_genbank\"\n",
    "output_folder = \"../results/countedAAs/total\"\n",
    "databases = [\"refseq\",\"genbank\"]\n",
    "\n",
    "fcrl.combinecounts(refseq_folder,genbank_folder,output_folder,databases)\n",
    "\n",
    "#combine the BLAST counts and structural similarity counts\n",
    "results_folder = \"../results/countedAAs/total\"\n",
    "foldseek_folder = \"../results/countedAA/structural_similarity\"\n",
    "output_folder = \"../results/countedAAs/total\"\n",
    "databases = [\"BLAST\",\"structural similarity\"]\n",
    "\n",
    "fcrl.combinecounts(results_folder,foldseek_folder,output_folder,databases)"
   ]
  },
  {
   "cell_type": "code",
   "execution_count": null,
   "metadata": {},
   "outputs": [],
   "source": [
    "#combine the BLAST homology results and structural similarity results\n",
    "ss_file_path = \"../results/homology_results/dREstuct_similarity_20230717.tsv\"\n",
    "blast_file_path = \"../results/homology_results/dREhomologs_20230718.csv\"\n",
    "output_folder = \"../results/homology_results\"\n",
    "homolog_df = pd.read_table(ss_file_path)\n",
    "blast_df = pd.read_csv(blast_file_path)\n",
    "\n",
    "homolog_df.rename(columns={\n",
    "    \"protid\":\"Accession\",\n",
    "    \"organism.scientificName\":\"Scientific Name\",\n",
    "    \"organism.commonName\":\"Common Name\",\n",
    "    \"sequence.length\":\"Acc. Len\",\n",
    "    \"organism.taxonId\":\"Taxid\",\n",
    "    },inplace=True)\n",
    "\n",
    "#remove hits that came from blast because we blasted seperately as well\n",
    "homolog_df = homolog_df[homolog_df[\"source.method\"].str.contains('foldseek')]\n",
    "homolog_df[\"source.method\"]='foldseek'\n",
    "\n",
    "#drop any duplicates \n",
    "homolog_df[\"gene\"] = homolog_df[\"reference\"].str.split('_').str[0]\n",
    "homolog_df.drop_duplicates(subset = [\"Accession\"],inplace=True)\n",
    "homolog_df.reset_index(inplace=True,drop=True)\n",
    "\n",
    "#only keep results with TM score >0.2\n",
    "homolog_df = homolog_df[homolog_df[\"TM_v_query\"]>0.2]\n",
    "\n",
    "full_df = pd.concat([blast_df ,homolog_df], axis=0, ignore_index=True)\n",
    "full_df.to_csv(os.path.join(output_folder,\"full_results_\" + today + \".csv\"))"
   ]
  },
  {
   "cell_type": "code",
   "execution_count": null,
   "metadata": {},
   "outputs": [],
   "source": [
    "#analyze the amino acid repeats, combine with homology results, and save the results in a new folder (per gene) \n",
    "countedAAs_folder = \"../results/counted_AAs/total\"\n",
    "output_path =  \"../results/analyzed_AAcounts\"\n",
    "homology_file_path = \"../results/homology_results/full_results_20230802.csv\"\n",
    "\n",
    "analyzecountedAAs(input_dir = countedAAs_folder, \n",
    "output_path = output_path, \n",
    "homology_file_path=homology_file_path \n",
    ")"
   ]
  },
  {
   "cell_type": "code",
   "execution_count": null,
   "metadata": {},
   "outputs": [],
   "source": [
    "#plot the repeat counting results for each set of disease-associated repeat expansion gene homologs\n",
    "folder = \"../results/analyzed_AAcounts\"\n",
    "pr.plot_analyzed_AAcounts(folder)"
   ]
  },
  {
   "cell_type": "code",
   "execution_count": null,
   "metadata": {},
   "outputs": [],
   "source": [
    "# plot the repeat lengths for all the coding disease-associated repeat expansion homologs together \n",
    "all_AA_reps_path = \"../results/analyzed_AAcounts/all_pathologic_AA_repeats.csv\"\n",
    "all_AA_reps = pd.read_csv(all_AA_reps_path)\n",
    "comparison_metric = \"Human Normal Max Delta\"\n",
    "\n",
    "#filter to keep only the longest homolog per organism\n",
    "all_AA_reps = all_AA_reps.sort_values('Length', ascending=False).drop_duplicates(subset = ['gene','Scientific Name']).sort_index()\n",
    "pr.plot_allDRE_pathologicalAA(all_AA_reps,comparison_metric)\n",
    "plt.ylim([-50,25])\n",
    "\n",
    "output_folder = \"../results/plots\"\n",
    "\n",
    "plt.savefig(os.path.join(output_folder,'codingdREs_relmaxhumanrepeats_'+today+'.svg'), format='svg', dpi=1200)\n",
    "plt.savefig(os.path.join(output_folder,'codingdREs_relmaxhumanrepeats_'+today+'.pdf'), format='pdf', dpi=1200)"
   ]
  },
  {
   "cell_type": "code",
   "execution_count": 57,
   "metadata": {},
   "outputs": [
    {
     "name": "stdout",
     "output_type": "stream",
     "text": [
      "Taxid     Common Name               \n",
      "42254.0   European shrew                13\n",
      "10041.0   white-footed mouse            13\n",
      "9597.0    pygmy chimpanzee              12\n",
      "109475.0  white-toothed pygmy shrew     12\n",
      "60711.0   green monkey                  12\n",
      "105255.0  banner-tailed kangaroo rat    12\n",
      "36803.0   cinereus shrew                12\n",
      "591936.0  Ugandan red Colobus           11\n",
      "9601.0    Sumatran orangutan            11\n",
      "9925.0    goat                          11\n",
      "Name: count, dtype: int64\n"
     ]
    },
    {
     "data": {
      "image/png": "[encoded data removed]",
      "text/plain": [
       "<Figure size 800x600 with 1 Axes>"
      ]
     },
     "metadata": {},
     "output_type": "display_data"
    }
   ],
   "source": [
    "#look at the number of homologs with repeats >= the human reference for each species,\n",
    "#and save the count with corresponding taxid for plotting on a taxonomic tree\n",
    "\n",
    "all_hit_species_path = \"../results/analyzed_AAcounts/all_hit_species.csv\"\n",
    "all_hit_species = pd.read_csv(all_hit_species_path)\n",
    "\n",
    "#filter so each species only has one hit per dRE\n",
    "all_hit_species = all_hit_species.sort_values('Length', ascending=False).drop_duplicates(subset = ['gene','Scientific Name']).sort_index()\n",
    "\n",
    "#fill in a common name if the organism doesn't have one\n",
    "all_hit_species[\"Common Name\"].fillna(all_hit_species[\"Scientific Name\"],inplace=True)\n",
    "\n",
    "#count how many homolgs each species has\n",
    "dRE_count_by_species= all_hit_species[['Taxid','Common Name']].value_counts()\n",
    "\n",
    "#plot how many homologs species have with repeats that match or exceed the human reference\n",
    "bins = range(0,dRE_count_by_species.max(),1)\n",
    "plt.subplots(figsize=(8,6))\n",
    "plt.hist(dRE_count_by_species,bins=bins,color=\"arcadia:marineblue\")\n",
    "plt.xlabel('# of dRE genes with repeats >= the human reference')\n",
    "plt.ylabel('# of species')\n",
    "\n",
    "print(dRE_count_by_species.iloc[0:10])\n",
    "\n",
    "filename = \"../results/taxidcounts_for_treemapping/taxid_ndREhits_\" + today + \".csv\"\n",
    "dRE_count_by_species.to_csv(filename)"
   ]
  },
  {
   "cell_type": "code",
   "execution_count": 58,
   "metadata": {},
   "outputs": [
    {
     "name": "stdout",
     "output_type": "stream",
     "text": [
      "          Taxid             Scientific Name                 Common Name  \\\n",
      "18631  109478.0             Myotis brandtii                Brandt's bat   \n",
      "18632    9662.0                 Meles meles             Eurasian badger   \n",
      "18633   29082.0  Macroscelides proboscideus  short-eared elephant shrew   \n",
      "18634  107270.0    Brachytarsomys albicauda            white-tailed rat   \n",
      "18869    9305.0        Sarcophilus harrisii             Tasmanian devil   \n",
      "...         ...                         ...                         ...   \n",
      "18444  299123.0  Lonchura striata domestica             Bengalese finch   \n",
      "18801  109905.0           Chelmon rostratus    copperband butterflyfish   \n",
      "18800    9669.0       Mustela putorius furo             domestic ferret   \n",
      "3044    10181.0       Heterocephalus glaber              naked mole-rat   \n",
      "18365  109478.0             Myotis brandtii                Brandt's bat   \n",
      "\n",
      "         gene  Human Pathogenic Min Delta  Per. Ident  TM_v_query  \n",
      "18631      AR                        13.0       69.90         NaN  \n",
      "18632      AR                         7.0       88.15         NaN  \n",
      "18633      AR                         5.0       58.81         NaN  \n",
      "18634      AR                         3.0       70.97         NaN  \n",
      "18869     ARX                         1.0       85.41         NaN  \n",
      "...       ...                         ...         ...         ...  \n",
      "18444  PABPN1                         0.0       90.67         NaN  \n",
      "18801  PRDM12                         0.0       31.25         NaN  \n",
      "18800  PRDM12                         1.0       40.97         NaN  \n",
      "3044     SOX3                         6.0       90.20         NaN  \n",
      "18365     TBP                       146.0       95.86         NaN  \n",
      "\n",
      "[276 rows x 7 columns]\n"
     ]
    }
   ],
   "source": [
    "#find species with homologs that would be interesting for disease modeling or might have molecular solutions\n",
    "\n",
    "temp = all_hit_species.copy()\n",
    "\n",
    "#warning:\n",
    "#For NIPA1 the reference genome contains more repeats than normal max.\n",
    "# JPH3 assessement is challenging because the repeat happens from an anti-sense transcript\n",
    "\n",
    "#data exclusion:\n",
    "#for HOXD13/ZIC3, many homologs are HOXA13/ZIC2 proteins which have longer repetitive tracts and thus gives false positives\n",
    "#therefore we exclude those homologs from our analyis\n",
    "\n",
    "temp = temp[~temp[\"gene\"].str.contains(\"ZIC3|HOXD13\")]\n",
    "\n",
    "pathogenicmin_dRE_species = temp[temp[\"Human Pathogenic Min Delta\"] >= 0]\n",
    "normalmax_dRE_species = temp[temp[\"Human Normal Max Delta\"] > 0]\n",
    "\n",
    "#take a look at which species have \"pathogenic\" looking repeats in their reference homologs! Big if true!\n",
    "print(pathogenicmin_dRE_species[['Taxid','Scientific Name','Common Name',\"gene\",\"Human Pathogenic Min Delta\", \"Per. Ident\",\"TM_v_query\"]].sort_values(\"gene\"))"
   ]
  },
  {
   "cell_type": "code",
   "execution_count": 38,
   "metadata": {},
   "outputs": [
    {
     "name": "stdout",
     "output_type": "stream",
     "text": [
      "Taxid     Common Name              \n",
      "9261.0    Australian echidna           5\n",
      "9305.0    Tasmanian devil              4\n",
      "38626.0   koala                        4\n",
      "9337.0    common brushtail             4\n",
      "38775.0   yellow-footed antechinus     4\n",
      "33562.0   monito del monte             4\n",
      "214514.0  Pacific pocket mouse         3\n",
      "9662.0    Eurasian badger              3\n",
      "59472.0   Kuhl's pipistrelle           3\n",
      "13616.0   gray short-tailed opossum    3\n",
      "Name: count, dtype: int64\n"
     ]
    }
   ],
   "source": [
    "#look if there are any species with multiple repeat expanded homologs with repeats > the healthy human limit\n",
    "healthy_human_max = normalmax_dRE_species[['Taxid','Common Name']].value_counts()\n",
    "filename = \"../results/taxidcounts_for_treemapping/taxid_exceeds_healthy_human_max_\" + today + \".csv\"\n",
    "# healthy_human_max.to_csv(filename)"
   ]
  },
  {
   "cell_type": "code",
   "execution_count": null,
   "metadata": {},
   "outputs": [],
   "source": [
    "#use z-scoring as an alternative way to find interesting species for further exploration\n",
    "\n",
    "mean_lengthZscore = normalmax_dRE_species[[\"Taxid\",\"Length Zscore\"]].groupby(\"Taxid\").mean().sort_values(\"Length Zscore\", ascending=False)\n",
    "summed_lengthZscore = normalmax_dRE_species[[\"Taxid\",\"Length Zscore\"]].groupby(\"Taxid\").sum().sort_values(\"Length Zscore\", ascending=False)\n",
    "\n",
    "print(summed_lengthZscore.iloc[0:25])\n",
    "\n",
    "filename = \"../results/taxidcounts_for_treemapping/taxid_exceeds_healthy_max_summed_length_zscore_\" + today + \".csv\"\n",
    "summed_lengthZscore.to_csv(filename)\n",
    "\n",
    "filename = \"../results/taxidcounts_for_treemapping/taxid_exceeds_healthy_max_mean_length_zscore_\" + today + \".csv\"\n",
    "mean_lengthZscore.to_csv(filename)"
   ]
  },
  {
   "cell_type": "code",
   "execution_count": null,
   "metadata": {},
   "outputs": [],
   "source": [
    "#make a binary table for heatmap plotting \n",
    "binary_table = pd.crosstab(normalmax_dRE_species['Common Name'], normalmax_dRE_species['gene']).clip(upper=1)\n",
    "binary_table.to_csv(\"../results/taxidcounts_for_treemapping/binarized_taxid_exceeds_healthy_human_max_\" + today + \".csv\")"
   ]
  },
  {
   "cell_type": "code",
   "execution_count": 37,
   "metadata": {},
   "outputs": [],
   "source": [
    "#take specific species for labeling on violin plot\n",
    "select_species = all_hit_species[all_hit_species[\"Common Name\"].str.contains(\n",
    "    \"Australian echidna|Kuhl's pipistrelle|cinereus shrew|Pacific pocket mouse|sea lamprey\",\n",
    "    na=False)]\n",
    "select_species = select_species[[\"Common Name\",\"Taxid\",\"gene\",\"Human Normal Max Delta\"]]\n",
    "\n",
    "output_path = \"../results/plots/select_species_for_violin_plot\"+ today + \".csv\"\n",
    "select_species.sort_values(by=\"Common Name\").to_csv(output_path)"
   ]
  }
 ],
 "metadata": {
  "kernelspec": {
   "display_name": "REpilot_blasttest",
   "language": "python",
   "name": "python3"
  },
  "language_info": {
   "codemirror_mode": {
    "name": "ipython",
    "version": 3
   },
   "file_extension": ".py",
   "mimetype": "text/x-python",
   "name": "python",
   "nbconvert_exporter": "python",
   "pygments_lexer": "ipython3",
   "version": "3.11.4"
  },
  "orig_nbformat": 4
 },
 "nbformat": 4,
 "nbformat_minor": 2
}
