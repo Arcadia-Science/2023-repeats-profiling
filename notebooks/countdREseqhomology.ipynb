{
 "cells": [
  {
   "cell_type": "code",
   "execution_count": 2,
   "metadata": {},
   "outputs": [],
   "source": [
    "import os\n",
    "from datetime import datetime\n",
    "\n",
    "import gget\n",
    "\n",
    "import pandas as pd\n",
    "\n",
    "import matplotlib.pyplot as plt\n",
    "import seaborn as sns\n",
    "import arcadia_pycolor as apc\n",
    "apc.mpl_setup()\n"
   ]
  },
  {
   "cell_type": "code",
   "execution_count": 10,
   "metadata": {},
   "outputs": [],
   "source": [
    "query_cover_thresh = 50 #min % of query covered for a homolog \n",
    "perident_thresh= 30 #min % percent identity for a homolog"
   ]
  },
  {
   "cell_type": "code",
   "execution_count": null,
   "metadata": {},
   "outputs": [],
   "source": [
    "#import blast results and get gene names from each ensembl id\n",
    "blast_results_folder = '../inputs/dRE_BlastResults_2023_06_09/'\n",
    "gene_names_path = '..inputs/geneID_Region_andPathogenicLength.csv'\n",
    "\n",
    "try: \n",
    "    genenames = pd.read_csv(gene_names_path)\n",
    "except:\n",
    "    genenames = {}\n",
    "    for i, filename in enumerate(os.listdir(blast_results_folder)):\n",
    "\n",
    "        ensembl_id = filename.replace('.csv','')\n",
    "        geneinfo = gget.info(ensembl_id)\n",
    "        name= geneinfo[\"primary_gene_name\"].values\n",
    "        genenames.update({ensembl_id:name[0]})\n",
    "        print(str(i+1) + \"/\" + str(len(os.listdir(blast_results_folder))) + \" gene names found\")\n",
    "\n",
    "    genenames = pd.DataFrame.from_dict(genenames, orient = \"index\")\n",
    "    genenames.reset_index(inplace=True)\n",
    "    genenames.rename(columns={\"index\":\"Eid\", 0: \"gene\"}, inplace=True)\n",
    "    genenames.to_csv(gene_names_path)\n"
   ]
  },
  {
   "cell_type": "code",
   "execution_count": 25,
   "metadata": {},
   "outputs": [],
   "source": [
    "blast_results_folder = '../inputs/dRE_BlastResults_2023_06_09/'\n",
    "gene_names_path = '../inputs/geneID_Region_andPathogenicLength.csv'\n",
    "genenames = pd.read_csv(gene_names_path)\n"
   ]
  },
  {
   "cell_type": "code",
   "execution_count": 29,
   "metadata": {},
   "outputs": [],
   "source": [
    "#filter blast results by percent identity and query coverage\n",
    "results_list = []\n",
    "\n",
    "for filename in os.listdir(blast_results_folder):\n",
    "    filepath = blast_results_folder + filename\n",
    "    blast_result = pd.read_csv(filepath)\n",
    "    \n",
    "    ensembl_id = filename.replace('.csv','')\n",
    "    blast_result['gene'] = genenames.loc[genenames[\"GeneId\"].str.match(ensembl_id),\"Locus ID\"].values[0]\n",
    "\n",
    "\n",
    "    blast_result['Query Cover'] = blast_result['Query Cover'].str.rstrip('%').astype('float')\n",
    "    blast_result['Per. Ident'] = blast_result['Per. Ident'].str.rstrip('%').astype('float')                      \n",
    "\n",
    "    results_list.append(blast_result)\n",
    "\n",
    "results_df = pd.concat(results_list)\n",
    "results_df = results_df[\n",
    "            (results_df['Per. Ident'] > perident_thresh) & \n",
    "            (results_df['Query Cover'] > query_cover_thresh)\n",
    "            ].reset_index(drop=True)"
   ]
  },
  {
   "cell_type": "code",
   "execution_count": 31,
   "metadata": {},
   "outputs": [],
   "source": [
    "tax_names = pd.read_csv('../inputs/NCBI_taxdump_20230612/names.dmp', delimiter=\"|\", header=None, quotechar='\\t')\n",
    "#fix taxids that got missed\n",
    "tax_names.columns = ['Taxid','Scientific Name','NA1','NA2','NA3']\n",
    "\n",
    "# Filter for errors and extract scientific name from within brackets of the \"description\" column\n",
    "taxids_to_fix = results_df[results_df[\"Taxid\"]==0].copy().reset_index() \n",
    "taxids_to_fix[\"Scientific Name\"] = taxids_to_fix[\"Description\"].str.extract(r'\\[(.*?)\\]')\n",
    "\n",
    "#Merge the filtered DataFrame with the mapping DataFrame\n",
    "merged_df = pd.merge(taxids_to_fix, tax_names[['Scientific Name', 'Taxid']], on='Scientific Name', how='left')\n",
    "\n",
    "#Update the \"Taxid\" column with values from the mapping DataFrame\n",
    "merged_df['Taxid'] = merged_df['Taxid_y'].fillna(merged_df['Taxid_x']).astype(int)\n",
    "\n",
    "# Drop unnecessary columns from the merged DataFrame\n",
    "merged_df = merged_df.drop(['Taxid_x', 'Taxid_y'], axis=1)\n",
    "\n",
    "#create a copy and update Taxid and Scientific Name\n",
    "temp_df = results_df.copy()\n",
    "temp_df.loc[temp_df['Taxid'] == 0, 'Taxid'] = merged_df['Taxid'].values\n",
    "\n",
    "results_df.update(temp_df)\n",
    "\n",
    "#drop those we couldn't fix\n",
    "results_df = results_df[results_df[\"Taxid\"]!=0]"
   ]
  },
  {
   "cell_type": "code",
   "execution_count": 33,
   "metadata": {},
   "outputs": [],
   "source": [
    "today = datetime.today().strftime('%Y%m%d')\n",
    "\n",
    "#save homology results_df to csv\n",
    "filename = \"../results/homology_results/dREhomologs_\" + today +\".csv\"\n",
    "results_df.to_csv(filename)"
   ]
  },
  {
   "cell_type": "code",
   "execution_count": null,
   "metadata": {},
   "outputs": [],
   "source": [
    "#output taxid and homologs for making trees\n",
    "\n",
    "thisdata = results_df[['Taxid','gene']].drop_duplicates()\n",
    "taxid_nhomologs = thisdata[['Taxid']].value_counts().reset_index()\n",
    "\n",
    "filename = \"../results/taxid_nhomologs_forEW\" + today + \".csv\"\n",
    "taxid_nhomologs.to_csv(filename)"
   ]
  }
 ],
 "metadata": {
  "kernelspec": {
   "display_name": "REpilot_blasttest",
   "language": "python",
   "name": "python3"
  },
  "language_info": {
   "codemirror_mode": {
    "name": "ipython",
    "version": 3
   },
   "file_extension": ".py",
   "mimetype": "text/x-python",
   "name": "python",
   "nbconvert_exporter": "python",
   "pygments_lexer": "ipython3",
   "version": "3.11.4"
  },
  "orig_nbformat": 4
 },
 "nbformat": 4,
 "nbformat_minor": 2
}
