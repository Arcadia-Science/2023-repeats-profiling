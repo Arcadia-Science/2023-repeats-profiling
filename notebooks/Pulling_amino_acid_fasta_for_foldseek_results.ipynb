{
 "cells": [
  {
   "cell_type": "markdown",
   "id": "d5292ed7",
   "metadata": {},
   "source": [
    "### This notebook describes how to pull protein sequence fasta files for proteins that were found using FoldSeek searches."
   ]
  },
  {
   "cell_type": "code",
   "execution_count": null,
   "id": "5303b50a",
   "metadata": {},
   "outputs": [],
   "source": [
    "#read in foldseek results \n",
    "\n",
    "require(data.table)\n",
    "data<-as.data.frame(fread(\"combined-foldseek-results-table.tsv\"))\n", 
    "data\n",
    "colnames(data)[1:2] <- c(\"gene\", \"Accession\")\n",
    "\n",
    "# Load the dplyr package\n",
    "library(dplyr)\n",
    "\n",
    "#filter tm score >0.2\n",
    "data <- data %>% filter(TM_v_query > 0.2)\n",
    "data\n",
    "\n",
    "#make lists from the filtered data\n",
    "ARX_Q96QS3=as.list(subset(data, gene == \"ARX_Q96QS3\")$Accession)\n",
    "CSTB_P04080=as.list(subset(data, gene == \"CSTB_P04080\")$Accession)\n",
    "c9orf72_Q96LT7=as.list(subset(data, gene == \"c9orf72_Q96LT7\")$Accession)\n",
    "NOP56_O00567=as.list(subset(data, gene == \"NOP56_O00567\")$Accession)\n",
    "JPH3_Q8WXH2=as.list(subset(data, gene == \"JPH3_Q8WXH2\")$Accession)\n",
    "HTT_P42858=as.list(subset(data, gene == \"HTT_P42858\")$Accession)\n",
    "PRNP_P04156=as.list(subset(data, gene == \"PRNP_P04156\")$Accession)\n",
    "COMP_P49747=as.list(subset(data, gene == \"COMP_P49747\")$Accession)\n",
    "NIPA1_Q7RTP0=as.list(subset(data, gene == \"NIPA1_Q7RTP0\")$Accession)\n",
    "CBL_P22681=as.list(subset(data, gene == \"CBL_P22681\")$Accession)\n",
    "VWA1_Q6PCB0=as.list(subset(data, gene == \"VWA1_Q6PCB0\")$Accession)\n",
    "FXN_Q16595=as.list(subset(data, gene == \"FXN_Q16595\")$Accession)\n",
    "NOTCH2NLC_P0DPK4=as.list(subset(data, gene == \"NOTCH2NLC_P0DPK4\")$Accession)\n",
    "AR_P10275=as.list(subset(data, gene == \"AR_P10275\")$Accession)\n",
    "ATXN3_P54252=as.list(subset(data, gene == \"ATXN3_P54252\")$Accession)\n",
    "TBP_P20226=as.list(subset(data, gene == \"TBP_P20226\")$Accession)\n",
    "STARD7_Q9NQZ5=as.list(subset(data, gene == \"STARD7_Q9NQZ5\")$Accession)\n",
    "ATXN10_Q9UBB4=as.list(subset(data, gene == \"ATXN10_Q9UBB4\")$Accession)\n",
    "DIP2B_Q9P265=as.list(subset(data, gene == \"DIP2B_Q9P265\")$Accession)"
   ]
  },
  {
   "cell_type": "markdown",
   "id": "b967fda5",
   "metadata": {},
   "source": [
    "#### Using the lists created above, this code pulls the corresponding protein fasta file from UniProt using the Uniprot id. Each query gene has a single results folder containing all foldseek results for that query."
   ]
  },
  {
   "cell_type": "code",
   "execution_count": null,
   "id": "d13b5c9e",
   "metadata": {},
   "outputs": [],
   "source": [
    "# Required libraries\n",
    "library(httr)\n",
    "\n",
    "# Nested list of UniProt IDs\n",
    "list_of_lists <- list(ARX_Q96QS3, CSTB_P04080, c9orf72_Q96LT7,NOP56_O00567,JPH3_Q8WXH2,HTT_P42858,PRNP_P04156,COMP_P49747,NIPA1_Q7RTP0,CBL_P22681,VWA1_Q6PCB0,FXN_Q16595,NOTCH2NLC_P0DPK4,AR_P10275,ATXN3_P54252,TBP_P20226,STARD7_Q9NQZ5,ATXN10_Q9UBB4,DIP2B_Q9P265)\n",
    "names(list_of_lists)=c(\"ARX_Q96QS3\", \"CSTB_P04080\",\"c9orf72_Q96LT7\",\"NOP56_O00567\",\"JPH3_Q8WXH2\",\"HTT_P42858\",\"PRNP_P04156\",\"COMP_P49747\",\"NIPA1_Q7RTP0\",\"CBL_P22681\",\"VWA1_Q6PCB0\",\"FXN_Q16595\",\"NOTCH2NLC_P0DPK4\",\"AR_P10275\",\"ATXN3_P54252\",\"TBP_P20226\",\"STARD7_Q9NQZ5\",\"ATXN10_Q9UBB4\",\"DIP2B_Q9P265\")\n",
    "\n",
    "\n",
    "# Loop over each list\n",
    "for(list_name in names(list_of_lists)) {\n",
    "  \n",
    "  # Create a new folder for the amino acid sequences\n",
    "  dir_name <- paste0(list_name, \"_aa\")\n",
    "  #dir.create(dir_name)\n",
    "  \n",
    "  # Loop over each UniProt ID in the current list\n",
    "  for(id in list_of_lists[[list_name]]) {\n",
    "    \n",
    "    # Define the URL to retrieve the FASTA sequence\n",
    "    url <- paste0(\"https://www.uniprot.org/uniprot/\", id, \".fasta\")\n",
    "    \n",
    "    # Check if the file already exists\n",
    "    # If it does, skip to the next ID\n",
    "    fasta_file <- paste0(dir_name, \"/\", id, \".fasta\")\n",
    "    if(file.exists(fasta_file)) {\n",
    "      next\n",
    "    }\n",
    "    \n",
    "    # Send a GET request to the UniProt server\n",
    "    response <- GET(url)\n",
    "    \n",
    "    # If the request was successful, save the amino acid sequence to a fasta file\n",
    "    if(status_code(response) == 200) {\n",
    "      write(content(response, as = \"text\"), file = fasta_file)\n",
    "    }\n",
    "  }\n",
    "}\n",
    "\n",
    "\n"
   ]
  }
 ],
 "metadata": {
  "kernelspec": {
   "display_name": "R",
   "language": "R",
   "name": "ir"
  },
  "language_info": {
   "codemirror_mode": "r",
   "file_extension": ".r",
   "mimetype": "text/x-r-source",
   "name": "R",
   "pygments_lexer": "r",
   "version": "4.2.2"
  }
 },
 "nbformat": 4,
 "nbformat_minor": 5
}
